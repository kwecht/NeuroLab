{
 "metadata": {
  "name": "",
  "signature": "sha256:220de9c2262d67ebb075277afc537fcdbef906719388145bd6f9cbed47ebf58e"
 },
 "nbformat": 3,
 "nbformat_minor": 0,
 "worksheets": [
  {
   "cells": [
    {
     "cell_type": "markdown",
     "metadata": {},
     "source": [
      "This notebook documents the addition of regularization in training neural networks with the python NeuroLab library.\n",
      "\n",
      "Regularization is only implemented for feed forward neural networks (anything that uses tool.ff_grad)."
     ]
    },
    {
     "cell_type": "heading",
     "level": 2,
     "metadata": {},
     "source": [
      "1. Acquisition and data management."
     ]
    },
    {
     "cell_type": "code",
     "collapsed": false,
     "input": [
      "# Install NeuroLab version 0.3.4  (from shell)\n",
      "#$ pip install neurolab   # --upgrade to upgrade"
     ],
     "language": "python",
     "metadata": {},
     "outputs": [],
     "prompt_number": 1
    },
    {
     "cell_type": "code",
     "collapsed": false,
     "input": [
      "## Create a git repository to track changes made to the NeuroLab source code (from shell)\n",
      "#$ git init\n",
      "#$ git add .\n",
      "#$ git commit -m \"Initialize git repository with neurolab library. kjw\"\n",
      "#$ git remote add origin https://github.com/kwecht/NeuroLab.git\n",
      "#$ git remove -v    # verify remote directory\n",
      "#$ git push -u origin master   # send the local copy to the remote directory\n",
      "## Visit github.com/kwecht/NeuroLab.git to see the copy is on github"
     ],
     "language": "python",
     "metadata": {},
     "outputs": []
    },
    {
     "cell_type": "code",
     "collapsed": false,
     "input": [
      "## Make new branch for development of regularization code.\n",
      "#git checkout -b regularization   # shorthand for git branch regularization; git checkout regularization"
     ],
     "language": "python",
     "metadata": {},
     "outputs": []
    },
    {
     "cell_type": "heading",
     "level": 2,
     "metadata": {},
     "source": [
      "2. Explanation of regularization"
     ]
    },
    {
     "cell_type": "markdown",
     "metadata": {},
     "source": [
      "Artificial neural networks are trained by minimizing a cost function that measures the mismatch between observations (targets) and network predictions. These cost functions can take many forms, including:\n",
      "\n",
      "$\\hspace{3 cm} J(w) = (y-y_p(w))^2 \\hspace{6 cm}$      for predicting real values\n",
      "\n",
      "$\\hspace{3 cm}J(w) = y \\ln (y_p(w)) + (1-y) \\ln(1-y_p(w)) \\hspace{3 cm}$    for classification\n",
      "\n",
      "* $J$ is the cost function\n",
      "* $w$ are the weights connecting neurons in the network\n",
      "* $y$ are the observations or target values\n",
      "* $y_p$ are the network predictions given the inputs and weights\n",
      "\n",
      "\n",
      "\n",
      "We regularize the cost function, $J_{reg}(w)$ by including an additional term that penalizes large values of $w$.\n",
      "\n",
      "$\\hspace{3 cm} J_{reg}(w) = J(w) + \\lambda w^2$"
     ]
    },
    {
     "cell_type": "heading",
     "level": 2,
     "metadata": {},
     "source": [
      "3. Code modification to include regularization"
     ]
    },
    {
     "cell_type": "markdown",
     "metadata": {},
     "source": [
      "Each evaluation of the cost function and its derivative must include the regularization term: $\\lambda w^2$\n",
      "\n",
      "To accomplish this, we will \n",
      "1. set $\\lambda$ before training the network\n",
      "2. pass the weights, $w$, to each evaluation of $J$ and $\\frac{dJ}{dw}$."
     ]
    },
    {
     "cell_type": "heading",
     "level": 3,
     "metadata": {},
     "source": [
      "3.1 set $\\lambda$ before training the network"
     ]
    },
    {
     "cell_type": "markdown",
     "metadata": {},
     "source": [
      "In each error class in error.py:"
     ]
    },
    {
     "cell_type": "heading",
     "level": 6,
     "metadata": {},
     "source": [
      "a. add an \\_\\_init\\_\\_ function that takes an optional keyword to store the regularization parameter value:"
     ]
    },
    {
     "cell_type": "markdown",
     "metadata": {},
     "source": [
      "    def __init__(self,**kwargs):\n",
      "        self.reg_param_w = 0.\n",
      "        self.reg_param_b = 0.\n",
      "        temp_kwargs = kwargs.copy()\n",
      "        for name,value in temp_kwargs.iteritems():\n",
      "            self.reg_param_w = kwargs.pop(\"reg_param_w\", 0)\n",
      "            self.reg_param_b = kwargs.pop(\"reg_param_b\", 0)\n",
      "            if kwargs:\n",
      "                raise TypeError(\"Unknown keyword arguments to error.MSE\")"
     ]
    },
    {
     "cell_type": "heading",
     "level": 3,
     "metadata": {},
     "source": [
      "3.2 Pass weights to each evaluation of $J$ and $\\frac{dJ}{dw}$"
     ]
    },
    {
     "cell_type": "markdown",
     "metadata": {},
     "source": [
      "In each error class in error.py:"
     ]
    },
    {
     "cell_type": "heading",
     "level": 6,
     "metadata": {},
     "source": [
      "a. add code to set regularization parameters in each error function"
     ]
    },
    {
     "cell_type": "markdown",
     "metadata": {},
     "source": [
      "    def set_regparams(kwargs):\n",
      "    \"\"\"\n",
      "    Set regularization parameters from keyword arguments\n",
      "\n",
      "    \"\"\"\n",
      "\n",
      "    # Initialize regularization parameter values\n",
      "    w,b = 0,0\n",
      "\n",
      "    # Get new regularization parameters from keywords\n",
      "    temp_kwargs = kwargs.copy()\n",
      "    for name,value in temp_kwargs.iteritems():\n",
      "        w = kwargs.pop(\"reg_param_w\",0)\n",
      "        b = kwargs.pop(\"reg_param_b\",0)\n",
      "        if kwargs:\n",
      "            raise TypeError(\"Unknown keyword arguments to error function\")\n",
      "\n",
      "    # Return regularization parameters\n",
      "    return (w,b)\n",
      "    \n",
      "    ...\n",
      "    \n",
      "    # In each function in error.py, add the following:\n",
      "    \n",
      "    # Set regularization parameters upon initialization\n",
      "    def __init__(self,**kwargs):\n",
      "        (self.reg_param_w,self.reg_param_b) = set_regparams(kwargs)\n",
      "        \n",
      "        \n"
     ]
    },
    {
     "cell_type": "heading",
     "level": 5,
     "metadata": {},
     "source": [
      "b. Calculate norm of weights and/or biases for regularization term"
     ]
    },
    {
     "cell_type": "markdown",
     "metadata": {},
     "source": [
      "    def param_norms(net,ord=2):\n",
      "\n",
      "        \"\"\"\n",
      "        Calculate norm of weights and and biases for calculating\n",
      "        the regularization term.\n",
      "\n",
      "        :Parameters:\n",
      "            net: neurolab net object\n",
      "\n",
      "        :Keywords:\n",
      "            ord: int\n",
      "                order of norm for regularization term. Usually in {1,2}\n",
      "\n",
      "        \"\"\"\n",
      "\n",
      "        # Assemble weights and biases into 1D vectors\n",
      "        w = []\n",
      "        b = []\n",
      "        for layer in net.layers:\n",
      "            w.extend(layer.np['w'].reshape(layer.np['w'].size))\n",
      "            b.extend(layer.np['b'].reshape(layer.np['b'].size))\n",
      "\n",
      "        # Calculate norms \n",
      "        w = np.linalg.norm(w,ord=ord)\n",
      "        b = np.linalg.norm(b,ord=ord)\n",
      "\n",
      "        return (w,b)\n",
      "    \n",
      "        ...\n",
      "    \n",
      "        #In each function in error.py, add the following to __call__:\n",
      "    \n",
      "        # Regularization term\n",
      "        (w,b) = param_norms(net)\n",
      "\n",
      "        # Add terms in cost function\n",
      "        v = v + self.reg_param_w * w + self.reg_param_b * b\n"
     ]
    },
    {
     "cell_type": "heading",
     "level": 6,
     "metadata": {},
     "source": [
      "c. add regularization term to gradient calculation in ff_grad (tool.py)"
     ]
    },
    {
     "cell_type": "markdown",
     "metadata": {},
     "source": [
      "    # Add regularization term to gradient calculations\n",
      "    for i, l in enumerate(net.layers):\n",
      "        grad[i]['w'] += net.errorf.reg_param_w * l.np['w']\n",
      "        grad[i]['b'] += net.errorf.reg_param_b * l.np['b']"
     ]
    },
    {
     "cell_type": "heading",
     "level": 5,
     "metadata": {},
     "source": [
      "d. Separate target and output as arguments to errorf, add net as third argument to errorf"
     ]
    },
    {
     "cell_type": "markdown",
     "metadata": {},
     "source": [
      "These are the files and lines of each call to errorf:\n",
      "*    core.py:376:\n",
      "*    train/train.py:41:\n",
      "*    train/wta.py:42:"
     ]
    },
    {
     "cell_type": "heading",
     "level": 2,
     "metadata": {},
     "source": [
      "4. Demonstration of Regularization"
     ]
    },
    {
     "cell_type": "code",
     "collapsed": false,
     "input": [
      "# Visualize training and test error for various values of the regularization parameter\n",
      "import neurolab as nl\n",
      "import numpy as np\n",
      "import matplotlib.pyplot as plt\n",
      "\n",
      "def test_regularization():\n",
      "    \"\"\"\n",
      "    # Train the a network using regularization.\n",
      "    # Plot results of the training using different values\n",
      "    #     of the regularization parameter.\n",
      "    \"\"\"\n",
      "\n",
      "    # ---- Create training and test data ----\n",
      "    np.random.seed(2)   # Set random seed to reproduce results\n",
      "    nobs = 60\n",
      "    train = np.random.uniform(-10,10,(nobs,2))\n",
      "    test = np.random.uniform(-10,10,(nobs,2))\n",
      "\n",
      "    # normalize to 0 mean, 1 standard deviation\n",
      "    train = (train - np.mean(train)) / np.std(train)   \n",
      "    test = (test - np.mean(test)) / np.std(test)\n",
      "\n",
      "    # Calculate target values for the train and test data. Sign of addition!\n",
      "    target = (train[:,0] + train[:,1])  # Addition of two input nodes\n",
      "    target = np.where( target < 0., -1, 1 ).reshape(nobs,1)   # Round to 1 or -1\n",
      "    testtarget = (test[:,0] + test[:,1])  # Addition of two input nodes\n",
      "    testtarget = np.where( testtarget < 0., -1, 1 ).reshape(nobs,1)   # Round to 1 or -1\n",
      "\n",
      "    \n",
      "    # ---- Loop through different values of the regularization parameter, ----\n",
      "    #      recording final train error and test error for each simulation\n",
      "    powers = np.linspace(-10,2,10)  \n",
      "    results = {'trainerror':[], 'testerror':[], 'regparam':[], 'weights':[]}\n",
      "    for power in powers:\n",
      "\n",
      "        # Set random seed to reproduce results\n",
      "        np.random.seed(22)\n",
      "\n",
      "        # Create neural network to train. \n",
      "        net = nl.net.newff([[np.min(train),np.max(train)]]*2,[nobs,1])\n",
      "\n",
      "        # Set regularization parameter\n",
      "        reg_param = 10**power\n",
      "        net.errorf = nl.error.MSE(reg_param_w=reg_param)\n",
      "\n",
      "        # Train network\n",
      "        err = net.train(train,target,goal=1e-7)\n",
      "\n",
      "        # Record results for plotting\n",
      "        results['regparam'].append(reg_param)\n",
      "        ws = []\n",
      "        for layer in net.layers:\n",
      "            ws.extend(layer.np['w'].reshape(layer.np['w'].size))\n",
      "        results['weights'].append(np.mean(np.abs(ws))/10.)\n",
      "        testsim = net.sim(test)\n",
      "        trainsim = net.sim(train)\n",
      "        errorf = nl.error.MSE(reg_param_w=0.)\n",
      "        results['trainerror'].append(errorf(target,trainsim,net))\n",
      "        results['testerror'].append(errorf(testtarget,testsim,net))\n",
      "\n",
      "\n",
      "    # ---- Visualize test vs. training error ----\n",
      "    fig = plt.figure()\n",
      "    ax = fig.add_subplot(1,1,1)\n",
      "    l1 = plt.plot(results['regparam'],results['trainerror'],'-r',\n",
      "                  lw=3,label='Train Error')\n",
      "    l2 = plt.plot(results['regparam'],results['testerror'],'-b',\n",
      "                  lw=3,label='Test Error')\n",
      "    l3 = plt.plot(results['regparam'],results['weights'],'-g',\n",
      "                  lw=2,label='Magnitude of Weights / 10')\n",
      "    ax.set_xscale('log')\n",
      "    ax.set_ylim(-0.1,1.0)\n",
      "    plt.xlabel(r'Regularization Parameter  $\\lambda$',fontsize=16)\n",
      "    plt.ylabel('Error',fontsize=16)\n",
      "    legend = plt.legend()\n",
      "    plt.show()"
     ],
     "language": "python",
     "metadata": {},
     "outputs": [],
     "prompt_number": 3
    },
    {
     "cell_type": "code",
     "collapsed": false,
     "input": [
      "%matplotlib inline\n",
      "test_regularization()"
     ],
     "language": "python",
     "metadata": {},
     "outputs": [
      {
       "output_type": "stream",
       "stream": "stdout",
       "text": [
        "The goal of learning is reached\n",
        "Epoch: 100; Error: 0.00659366540348;"
       ]
      },
      {
       "output_type": "stream",
       "stream": "stdout",
       "text": [
        "\n",
        "Epoch: 200; Error: 0.0039317510949;"
       ]
      },
      {
       "output_type": "stream",
       "stream": "stdout",
       "text": [
        "\n",
        "Epoch: 100; Error: 0.0675910019001;"
       ]
      },
      {
       "output_type": "stream",
       "stream": "stdout",
       "text": [
        "\n"
       ]
      },
      {
       "metadata": {},
       "output_type": "display_data",
       "png": "[encoded data removed]",
       "text": [
        "<matplotlib.figure.Figure at 0x107ca3cd0>"
       ]
      }
     ],
     "prompt_number": 4
    },
    {
     "cell_type": "markdown",
     "metadata": {},
     "source": [
      "The image above shows the expected behavior of regularized networks. On the x-axis is the magnitude of the regularization parameter, $\\lambda$. The y-axis shows the mean squared error on the trainin data (red), test data (blue), and the mean magnitude of the optimized neural network weights (green). For very small values of $\\lambda$ ($\\lambda < 10^{-5}$), training error is very small, but test error is much larger, indicating an overfit to the training data. As $\\lambda$ increases, the weights in the neural network start to change and test error decreases. Test error reaches a minimum around $\\lambda \\approx 10^{-1}$. For larger values of $\\lambda$, the network is too heavily regularized; the network cannot fit the training data, and the fit to both test and training data worsens.\n",
      "\n",
      "In fewer words:\n",
      "When $\\lambda$ is too low, the solution has low bias and high variance.\n",
      "When $\\lambda$ is too high, the solution has high bias and low variance.\n",
      "The optimal solution in this example is the network for which $\\lambda \\approx 10^{-1}$."
     ]
    },
    {
     "cell_type": "heading",
     "level": 2,
     "metadata": {},
     "source": [
      "5. Commit changes to git repository"
     ]
    },
    {
     "cell_type": "code",
     "collapsed": false,
     "input": [
      "#$ git commit -a -m \"Add regularization to networks that use ff_grad. kjw\"\n",
      "#$ git checkout master   # switch to branch into which we will merge\n",
      "#$ git merge regularization   # merge regularization branch into this branch\n",
      "#$ git branch -d regularization   # delete old branch\n",
      "#$ git push origin master  # Send updates to github"
     ],
     "language": "python",
     "metadata": {},
     "outputs": [],
     "prompt_number": 2
    }
   ],
   "metadata": {}
  }
 ]
}